{
 "cells": [
  {
   "cell_type": "code",
   "execution_count": 1,
   "metadata": {},
   "outputs": [
    {
     "name": "stdout",
     "output_type": "stream",
     "text": [
      "Requirement already satisfied: xgboost in /opt/anaconda3/lib/python3.11/site-packages (3.0.1)\n",
      "Requirement already satisfied: numpy in /opt/anaconda3/lib/python3.11/site-packages (from xgboost) (1.26.4)\n",
      "Requirement already satisfied: scipy in /opt/anaconda3/lib/python3.11/site-packages (from xgboost) (1.11.4)\n",
      "Note: you may need to restart the kernel to use updated packages.\n"
     ]
    }
   ],
   "source": [
    "%pip install xgboost"
   ]
  },
  {
   "cell_type": "code",
   "execution_count": 7,
   "metadata": {},
   "outputs": [
    {
     "name": "stdout",
     "output_type": "stream",
     "text": [
      "Classification Report:\n",
      "\n",
      "              precision    recall  f1-score   support\n",
      "\n",
      "       <=50K       0.88      0.84      0.86       136\n",
      "        >50K       0.62      0.69      0.65        52\n",
      "\n",
      "    accuracy                           0.80       188\n",
      "   macro avg       0.75      0.77      0.76       188\n",
      "weighted avg       0.81      0.80      0.80       188\n",
      "\n"
     ]
    },
    {
     "name": "stderr",
     "output_type": "stream",
     "text": [
      "/opt/anaconda3/lib/python3.11/site-packages/xgboost/training.py:183: UserWarning: [12:04:48] WARNING: /Users/runner/work/xgboost/xgboost/src/learner.cc:738: \n",
      "Parameters: { \"use_label_encoder\" } are not used.\n",
      "\n",
      "  bst.update(dtrain, iteration=i, fobj=obj)\n"
     ]
    }
   ],
   "source": [
    "# %%\n",
    "import pandas as pd\n",
    "from sklearn.model_selection import train_test_split\n",
    "from sklearn.preprocessing import LabelEncoder\n",
    "from xgboost import XGBClassifier\n",
    "from sklearn.metrics import classification_report\n",
    "\n",
    "# 1. Load Synthetic Dataset\n",
    "df = pd.read_csv(\"../data/synthetic_adult_clean.csv\")\n",
    "\n",
    "# 2. Encoding variabili categoriche\n",
    "df_encoded = df.copy()\n",
    "label_encoders = {}\n",
    "\n",
    "for col in [\"education\", \"occupation\", \"income\"]:\n",
    "    le = LabelEncoder()\n",
    "    df_encoded[col] = le.fit_transform(df[col])\n",
    "    label_encoders[col] = le\n",
    "\n",
    "# 3. Feature e target\n",
    "X = df_encoded.drop(\"income\", axis=1)\n",
    "y = df_encoded[\"income\"]\n",
    "\n",
    "# 4. Train/test split con stratificazione\n",
    "X_train, X_test, y_train, y_test = train_test_split(\n",
    "    X, y, test_size=0.2, stratify=y, random_state=42\n",
    ")\n",
    "\n",
    "# 5. Modello XGBoost con tuning leggero\n",
    "xgb_model = XGBClassifier(\n",
    "    n_estimators=100,\n",
    "    max_depth=4,\n",
    "    learning_rate=0.1,\n",
    "    scale_pos_weight=2,  # penalizza la classe minoritaria\n",
    "    random_state=42,\n",
    "    use_label_encoder=False,\n",
    "    eval_metric='logloss'\n",
    ")\n",
    "xgb_model.fit(X_train, y_train)\n",
    "\n",
    "# 6. Valutazione\n",
    "y_pred = xgb_model.predict(X_test)\n",
    "\n",
    "print(\"Classification Report:\\n\")\n",
    "print(classification_report(\n",
    "    y_test, y_pred, target_names=label_encoders[\"income\"].classes_\n",
    "))"
   ]
  },
  {
   "cell_type": "code",
   "execution_count": 8,
   "metadata": {},
   "outputs": [
    {
     "name": "stderr",
     "output_type": "stream",
     "text": [
      "/opt/anaconda3/lib/python3.11/site-packages/xgboost/training.py:183: UserWarning: [12:08:14] WARNING: /Users/runner/work/xgboost/xgboost/src/learner.cc:738: \n",
      "Parameters: { \"use_label_encoder\" } are not used.\n",
      "\n",
      "  bst.update(dtrain, iteration=i, fobj=obj)\n"
     ]
    },
    {
     "data": {
      "image/png": "[encoded data removed]",
      "text/plain": [
       "<Figure size 800x310 with 1 Axes>"
      ]
     },
     "metadata": {},
     "output_type": "display_data"
    }
   ],
   "source": [
    "import shap\n",
    "import xgboost as xgb\n",
    "import pandas as pd\n",
    "from sklearn.model_selection import train_test_split\n",
    "from sklearn.preprocessing import LabelEncoder\n",
    "\n",
    "# Carica il dataset sintetico\n",
    "df = pd.read_csv(\"../data/synthetic_adult_clean.csv\")\n",
    "\n",
    "# Encoding variabili categoriche\n",
    "df_encoded = df.copy()\n",
    "label_encoders = {}\n",
    "for col in [\"education\", \"occupation\", \"income\"]:\n",
    "    le = LabelEncoder()\n",
    "    df_encoded[col] = le.fit_transform(df[col])\n",
    "    label_encoders[col] = le\n",
    "\n",
    "# Feature e target\n",
    "X = df_encoded.drop(\"income\", axis=1)\n",
    "y = df_encoded[\"income\"]\n",
    "\n",
    "# Split train/test\n",
    "X_train, X_test, y_train, y_test = train_test_split(\n",
    "    X, y, test_size=0.2, stratify=y, random_state=42\n",
    ")\n",
    "\n",
    "# Modello XGBoost\n",
    "model = xgb.XGBClassifier(\n",
    "    objective=\"binary:logistic\",\n",
    "    eval_metric=\"logloss\",\n",
    "    use_label_encoder=False,\n",
    "    scale_pos_weight=1.5,\n",
    "    learning_rate=0.1,\n",
    "    max_depth=4,\n",
    "    n_estimators=100,\n",
    "    random_state=42\n",
    ")\n",
    "model.fit(X_train, y_train)\n",
    "\n",
    "# SHAP solo per XGBoost (TreeExplainer)\n",
    "explainer = shap.TreeExplainer(model)\n",
    "shap_values = explainer.shap_values(X_test)\n",
    "\n",
    "# Summary plot (bar)\n",
    "shap.summary_plot(shap_values, X_test, plot_type=\"bar\")"
   ]
  },
  {
   "cell_type": "code",
   "execution_count": 9,
   "metadata": {},
   "outputs": [
    {
     "name": "stderr",
     "output_type": "stream",
     "text": [
      "/opt/anaconda3/lib/python3.11/site-packages/xgboost/training.py:183: UserWarning: [12:12:30] WARNING: /Users/runner/work/xgboost/xgboost/src/learner.cc:738: \n",
      "Parameters: { \"use_label_encoder\" } are not used.\n",
      "\n",
      "  bst.update(dtrain, iteration=i, fobj=obj)\n"
     ]
    }
   ],
   "source": [
    "import shap\n",
    "import xgboost as xgb\n",
    "import pandas as pd\n",
    "import matplotlib.pyplot as plt\n",
    "\n",
    "# Caricamento dataset e encoding\n",
    "df = pd.read_csv(\"../data/synthetic_adult_clean.csv\")\n",
    "from sklearn.preprocessing import LabelEncoder\n",
    "df_encoded = df.copy()\n",
    "label_encoders = {}\n",
    "for col in [\"education\", \"occupation\", \"income\"]:\n",
    "    le = LabelEncoder()\n",
    "    df_encoded[col] = le.fit_transform(df[col])\n",
    "    label_encoders[col] = le\n",
    "\n",
    "X = df_encoded.drop(\"income\", axis=1)\n",
    "y = df_encoded[\"income\"]\n",
    "\n",
    "# Addestramento modello\n",
    "model = xgb.XGBClassifier(use_label_encoder=False, eval_metric=\"logloss\", random_state=42)\n",
    "model.fit(X, y)\n",
    "\n",
    "# SHAP: TreeExplainer per modelli ad albero (nessun uso di Torch o CUDA)\n",
    "explainer = shap.TreeExplainer(model)\n",
    "shap_values = explainer.shap_values(X)\n",
    "\n",
    "# Summary plot\n",
    "plt.figure()\n",
    "shap.summary_plot(shap_values, X, show=False)\n",
    "plt.tight_layout()\n",
    "plt.savefig(\"../outputs/shap_summary_plot.png\")\n",
    "plt.close()"
   ]
  }
 ],
 "metadata": {
  "kernelspec": {
   "display_name": "base",
   "language": "python",
   "name": "python3"
  },
  "language_info": {
   "codemirror_mode": {
    "name": "ipython",
    "version": 3
   },
   "file_extension": ".py",
   "mimetype": "text/x-python",
   "name": "python",
   "nbconvert_exporter": "python",
   "pygments_lexer": "ipython3",
   "version": "3.11.7"
  }
 },
 "nbformat": 4,
 "nbformat_minor": 2
}
